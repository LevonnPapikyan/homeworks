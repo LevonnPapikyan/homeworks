{
 "cells": [
  {
   "cell_type": "code",
   "execution_count": 7,
   "metadata": {},
   "outputs": [
    {
     "data": {
      "text/plain": [
       "'3.9.13 (main, Aug 25 2022, 18:29:29) \\n[Clang 12.0.0 ]'"
      ]
     },
     "execution_count": 7,
     "metadata": {},
     "output_type": "execute_result"
    }
   ],
   "source": [
    "import sys\n",
    "sys.version"
   ]
  },
  {
   "cell_type": "code",
   "execution_count": 8,
   "metadata": {},
   "outputs": [
    {
     "name": "stdout",
     "output_type": "stream",
     "text": [
      "Current date and time : \n",
      "2023-02-26 13:29:38\n"
     ]
    }
   ],
   "source": [
    "import datetime\n",
    "now = datetime.datetime.now()\n",
    "print (\"Current date and time : \")\n",
    "print (now.strftime(\"%Y-%m-%d %H:%M:%S\"))"
   ]
  },
  {
   "cell_type": "code",
   "execution_count": 11,
   "metadata": {},
   "outputs": [
    {
     "name": "stdout",
     "output_type": "stream",
     "text": [
      "area is :  530.929\n"
     ]
    }
   ],
   "source": [
    "import math\n",
    "radius = int(input(\"wirte the radius of circle :\"))\n",
    "area = math.pi*(radius**2)\n",
    "print(\"area is : \",round(area,3))"
   ]
  },
  {
   "cell_type": "code",
   "execution_count": 22,
   "metadata": {},
   "outputs": [
    {
     "name": "stdout",
     "output_type": "stream",
     "text": [
      "extension is :  csv\n"
     ]
    }
   ],
   "source": [
    "import os\n",
    "filename = str(input(\"write your file name : \"))\n",
    "filename, extension = os.path.splitext(filename)\n",
    "print(\"extension is : \",extension.replace(\".\",\"\"))"
   ]
  },
  {
   "cell_type": "code",
   "execution_count": 24,
   "metadata": {},
   "outputs": [
    {
     "name": "stdout",
     "output_type": "stream",
     "text": [
      "first color is :  color1 \n",
      "last color is : color4\n"
     ]
    }
   ],
   "source": [
    "lis = [\"color1\",\"color2\",\"color3\",\"color4\"]\n",
    "print(\"first color is : \",lis[0], \"\\nlast color is :\",lis[-1])"
   ]
  },
  {
   "cell_type": "code",
   "execution_count": 26,
   "metadata": {},
   "outputs": [
    {
     "name": "stdout",
     "output_type": "stream",
     "text": [
      "12 / 3 / 2021\n"
     ]
    }
   ],
   "source": [
    "date_ = (12,3,2021)\n",
    "print(f\"{date_[0]} / {date_[1]} / {date_[2]}\")"
   ]
  },
  {
   "cell_type": "code",
   "execution_count": 27,
   "metadata": {},
   "outputs": [
    {
     "name": "stdout",
     "output_type": "stream",
     "text": [
      "615\n"
     ]
    }
   ],
   "source": [
    "val = str(input(\"write the number dude : \"))\n",
    "expression = f\"{val}+{val}{val}+{val}{val}{val}\"\n",
    "print(eval(expression))"
   ]
  },
  {
   "cell_type": "code",
   "execution_count": 30,
   "metadata": {},
   "outputs": [
    {
     "name": "stdout",
     "output_type": "stream",
     "text": [
      "13 is odd\n"
     ]
    }
   ],
   "source": [
    "val = int(input(\"write the number : \"))\n",
    "if val%2==0:\n",
    "    print(f\"{val} is even\")\n",
    "else:\n",
    "    print(f\"{val} is odd\")"
   ]
  },
  {
   "cell_type": "code",
   "execution_count": 32,
   "metadata": {},
   "outputs": [
    {
     "name": "stdout",
     "output_type": "stream",
     "text": [
      "False\n"
     ]
    }
   ],
   "source": [
    "ls = [i for i in range(1,23,2)]\n",
    "check_num = int(input(\"wirte the number : \"))\n",
    "if check_num in ls:\n",
    "    print(True)\n",
    "else:\n",
    "    print(False)"
   ]
  },
  {
   "cell_type": "code",
   "execution_count": 34,
   "metadata": {},
   "outputs": [
    {
     "name": "stdout",
     "output_type": "stream",
     "text": [
      "*\n",
      "***\n",
      "*****\n",
      "*******\n",
      "*********\n",
      "***********\n",
      "*************\n",
      "***************\n",
      "*****************\n",
      "*******************\n",
      "*********************\n"
     ]
    }
   ],
   "source": [
    "for i in ls:\n",
    "    print(\"*\"*i)"
   ]
  },
  {
   "cell_type": "code",
   "execution_count": 42,
   "metadata": {},
   "outputs": [
    {
     "name": "stdout",
     "output_type": "stream",
     "text": [
      "['col1', 'col3', 'col2']\n"
     ]
    }
   ],
   "source": [
    "col_1_ls = [\"col1\",\"col2\",\"col3\",\"col5\"]\n",
    "col_2_ls = [\"col4\",\"col5\"]\n",
    "temp = []\n",
    "for i in set(col_1_ls):\n",
    "    if i not in col_2_ls:\n",
    "        temp.append(i)\n",
    "print(temp)"
   ]
  },
  {
   "cell_type": "code",
   "execution_count": 44,
   "metadata": {},
   "outputs": [
    {
     "name": "stdout",
     "output_type": "stream",
     "text": [
      "123Truestrval\n"
     ]
    }
   ],
   "source": [
    "ls = [1,2,3,True,\"strval\"]\n",
    "ls_str = [f\"{i}\" for i in ls]\n",
    "val = \"\"\n",
    "for i in ls_str:\n",
    "    val+=i\n",
    "print(val)"
   ]
  },
  {
   "cell_type": "code",
   "execution_count": 51,
   "metadata": {},
   "outputs": [
    {
     "name": "stdout",
     "output_type": "stream",
     "text": [
      "24\n"
     ]
    }
   ],
   "source": [
    "def gcd(a, b):\n",
    " \n",
    "    # Everything divides 0\n",
    "    if (a == 0):\n",
    "        return b\n",
    "    if (b == 0):\n",
    "        return a\n",
    " \n",
    "    # base case\n",
    "    if (a == b):\n",
    "        return a\n",
    " \n",
    "    # a is greater\n",
    "    if (a > b):\n",
    "        return gcd(a-b, b)\n",
    "    return gcd(a, b-a)\n",
    "\n",
    "print(gcd(24,48))"
   ]
  },
  {
   "cell_type": "code",
   "execution_count": 50,
   "metadata": {},
   "outputs": [
    {
     "name": "stdout",
     "output_type": "stream",
     "text": [
      "24\n"
     ]
    }
   ],
   "source": [
    "def lcm(a, b):\n",
    "\n",
    "    if (a == 0):\n",
    "        return a\n",
    "    if (b == 0):\n",
    "        return b\n",
    " \n",
    "    # base case\n",
    "    if (a == b):\n",
    "        return a\n",
    " \n",
    "    # a is greater\n",
    "    if (a > b):\n",
    "        return gcd(a-b, b)\n",
    "    return gcd(a, b-a)"
   ]
  },
  {
   "cell_type": "code",
   "execution_count": null,
   "metadata": {},
   "outputs": [],
   "source": [
    "def lcm(x, y):\n",
    "   if x > y:\n",
    "       greater = x\n",
    "   else:\n",
    "       greater = y\n",
    "\n",
    "   while(True):\n",
    "       if((greater % x == 0) and (greater % y == 0)):\n",
    "           lcm = greater\n",
    "           break\n",
    "       greater += 1\n",
    "\n",
    "   return lcm\n",
    "\n",
    "num1 = 54\n",
    "num2 = 24\n",
    "\n",
    "print(\"lcm is\", lcm(num1, num2))"
   ]
  },
  {
   "cell_type": "code",
   "execution_count": 5,
   "metadata": {},
   "outputs": [
    {
     "name": "stdout",
     "output_type": "stream",
     "text": [
      "distance between x and y is :  4.0\n"
     ]
    }
   ],
   "source": [
    "def distance_between_points(x,y):\n",
    "    distance = 0\n",
    "    for i,j in zip(x,y):\n",
    "       distance += (i - j)**2\n",
    "    return distance*0.5\n",
    "    \n",
    "x = [1,2]\n",
    "y = [3,4]\n",
    "print(\"distance between x and y is : \",distance_between_points(x,y))"
   ]
  },
  {
   "cell_type": "code",
   "execution_count": 4,
   "metadata": {},
   "outputs": [
    {
     "name": "stdout",
     "output_type": "stream",
     "text": [
      "distance between x and y is :  4.0\n"
     ]
    }
   ],
   "source": [
    "def distance_between_points(x,y):\n",
    "    distance = 0\n",
    "    for i,j in zip(x,y):\n",
    "       distance += (i - j)**2\n",
    "    return distance*0.5\n",
    "    \n",
    "x = [1,2]\n",
    "y = [3,4]\n",
    "print(\"distance between x and y is : \",distance_between_points(x,y))"
   ]
  },
  {
   "cell_type": "code",
   "execution_count": null,
   "metadata": {},
   "outputs": [],
   "source": [
    "print(\"dgdfsjgs\")"
   ]
  },
  {
   "cell_type": "code",
   "execution_count": null,
   "metadata": {},
   "outputs": [],
   "source": []
  }
 ],
 "metadata": {
  "kernelspec": {
   "display_name": "base",
   "language": "python",
   "name": "python3"
  },
  "language_info": {
   "codemirror_mode": {
    "name": "ipython",
    "version": 3
   },
   "file_extension": ".py",
   "mimetype": "text/x-python",
   "name": "python",
   "nbconvert_exporter": "python",
   "pygments_lexer": "ipython3",
   "version": "3.9.13"
  },
  "orig_nbformat": 4,
  "vscode": {
   "interpreter": {
    "hash": "40d3a090f54c6569ab1632332b64b2c03c39dcf918b08424e98f38b5ae0af88f"
   }
  }
 },
 "nbformat": 4,
 "nbformat_minor": 2
}
